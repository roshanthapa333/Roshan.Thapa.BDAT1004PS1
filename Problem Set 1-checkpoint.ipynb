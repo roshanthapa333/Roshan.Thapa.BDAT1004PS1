{
 "cells": [
  {
   "cell_type": "markdown",
   "id": "aabd0765",
   "metadata": {},
   "source": [
    "# Question 1\n",
    "Classifying data types\n",
    "5 = Integer\n",
    "5.0 = Float\n",
    "5 > 1 = True = Boolean\n",
    "'5' = Character\n",
    "5 * 2 = 10 = Integer\n",
    "'5' * 2 = String\n",
    "'5' + '2' = String\n",
    "5 / 2 = 2.5 = Float\n",
    "5 % 2 =  1 = Integer\n",
    "{5, 2, 1} = List\n",
    "5 == 3 = false = Boolean\n",
    "Pi (the number) = Float\n"
   ]
  },
  {
   "cell_type": "code",
   "execution_count": 2,
   "id": "11af8ab9",
   "metadata": {},
   "outputs": [
    {
     "name": "stdout",
     "output_type": "stream",
     "text": [
      "There are 34 letters in the Supercalifragilisticexpialidocious\n"
     ]
    }
   ],
   "source": [
    "# Question 2\n",
    "#a. How many letters are there in 'Supercalifragilisticexpialidocious'?\n",
    "word = 'Supercalifragilisticexpialidocious'\n",
    "count = len(word)\n",
    "print(f'There are {count} letters in the {word}')\n",
    "\n"
   ]
  },
  {
   "cell_type": "code",
   "execution_count": 7,
   "id": "c57c4c67",
   "metadata": {},
   "outputs": [
    {
     "name": "stdout",
     "output_type": "stream",
     "text": [
      "True\n"
     ]
    }
   ],
   "source": [
    "#b. Does 'Supercalifragilisticexpialidocious' contain 'ice' as a substring?\n",
    "word = 'Supercalifragilisticexpialidocious'\n",
    "substring = 'ice'\n",
    "if substring in word:\n",
    "    print('True')\n",
    "else:\n",
    "    print('False')"
   ]
  },
  {
   "cell_type": "code",
   "execution_count": 23,
   "id": "b3ceb747",
   "metadata": {},
   "outputs": [
    {
     "name": "stdout",
     "output_type": "stream",
     "text": [
      "The longest word is: Supercalifragilisticexpialidocious\n"
     ]
    }
   ],
   "source": [
    "# c. Which of the following words is the longest: Supercalifragilisticexpialidocious, \n",
    "# Honorificabilitudinitatibus, or Bababadalgharaghtakamminarronnkonn? \n",
    "words = [\n",
    "    'Supercalifragilisticexpialidocious',\n",
    "    'Honorificabilitudinitatibus',\n",
    "    'Bababadalgharaghtakamminarronnkonn'\n",
    "]\n",
    "wordLengths = [len(word) for word in words]\n",
    "longestWordIndex = wordLengths.index(max(wordLengths))\n",
    "longestWord = words[longestWordIndex]\n",
    "print(f\"The longest word is: {longestWord}\")\n"
   ]
  },
  {
   "cell_type": "code",
   "execution_count": 16,
   "id": "8218cbec",
   "metadata": {},
   "outputs": [
    {
     "name": "stdout",
     "output_type": "stream",
     "text": [
      "The composers that comes first is: Bartok\n",
      "The composers that comes last is: Buxtehude\n"
     ]
    }
   ],
   "source": [
    "#d. Which composer comes first in the dictionary: 'Berlioz', 'Borodin', 'Brian', \n",
    "#'Bartok', 'Bellini', 'Buxtehude', 'Bernstein'. Which one comes last?\n",
    "composers = ['Berlioz', 'Borodin', 'Brian', 'Bartok', 'Bellini', 'Buxtehude', 'Bernstein']\n",
    "composers.sort() #sorting the array of composers\n",
    "first = composers[0]\n",
    "last = composers[-1]\n",
    "print(f\"The composers that comes first is: {first}\")\n",
    "print(f\"The composers that comes last is: {last}\")"
   ]
  },
  {
   "cell_type": "code",
   "execution_count": 41,
   "id": "e999005c",
   "metadata": {},
   "outputs": [
    {
     "name": "stdout",
     "output_type": "stream",
     "text": [
      "Area of triangle is: 1.7320508075688772\n"
     ]
    }
   ],
   "source": [
    "# Question 3\n",
    "\n",
    "import math\n",
    "def triangleArea(a,b,c):\n",
    "    s = (a+b+c)/2\n",
    "    area = math.sqrt(s * (s-a) * (s-b) * (s-c))\n",
    "    return area\n",
    "\n",
    "area = triangleArea(2,2,2)\n",
    "print(f\"Area of triangle is: {area}\")"
   ]
  },
  {
   "cell_type": "code",
   "execution_count": 42,
   "id": "23ee4e40",
   "metadata": {},
   "outputs": [
    {
     "name": "stdout",
     "output_type": "stream",
     "text": [
      "Enter number of elements to be stored in the array: 5\n",
      "25\n",
      "47\n",
      "42\n",
      "56\n",
      "32\n",
      "The array is : [25, 47, 42, 56, 32]\n",
      "Even elements in the array: [42, 56, 32]\n",
      "Odd elements in the array: [25, 47]\n"
     ]
    }
   ],
   "source": [
    "#Question 4\n",
    "inputs = []\n",
    "odd_elements = []\n",
    "even_elements = []\n",
    "number_of_elements = int(input(\"Enter number of elements to be stored in the array: \"))\n",
    "for i in range(0, number_of_elements):\n",
    "    elements = int(input())\n",
    "    inputs.append(elements)\n",
    "print(f\"The array is : {inputs}\")\n",
    "\n",
    "for element in inputs:\n",
    "    if(element % 2 == 0):\n",
    "        even_elements.append(element) \n",
    "    else:\n",
    "        odd_elements.append(element)  \n",
    "print(\"Even elements in the array:\", even_elements)\n",
    "print(\"Odd elements in the array:\", odd_elements)"
   ]
  },
  {
   "cell_type": "code",
   "execution_count": 48,
   "id": "22762534",
   "metadata": {},
   "outputs": [
    {
     "name": "stdout",
     "output_type": "stream",
     "text": [
      "True\n",
      "False\n"
     ]
    }
   ],
   "source": [
    "# Question 5\n",
    "#a\n",
    "def inside(x,y,x1,y1,x2,y2):\n",
    "    if(x1<=x and x<=x2) and (y1<=y and y<=y2):\n",
    "        return True\n",
    "    else:\n",
    "        return False\n",
    "check1 = inside(1,1,0,0,2,3)\n",
    "check2 = inside(-1,-1,0,0,2,3)\n",
    "print(check1)\n",
    "print(check2)"
   ]
  },
  {
   "cell_type": "code",
   "execution_count": 50,
   "id": "3c60ebd9",
   "metadata": {},
   "outputs": [
    {
     "name": "stdout",
     "output_type": "stream",
     "text": [
      "Point (1, 1) does not lie in both rectangles.\n"
     ]
    }
   ],
   "source": [
    "#b\n",
    "def inside(x, y, x1, y1, x2, y2):\n",
    "    return ((x1 <= x and x <= x2) and (y1 <= y and y <= y2))\n",
    "\n",
    "#Test point\n",
    "x = 1\n",
    "y = 1\n",
    "\n",
    "#Rectangle 1 co-ordinates\n",
    "rect1_x1 = 0.3\n",
    "rect1_y1 = 0.5\n",
    "rect1_x2 = 1.1\n",
    "rect1_y2 = 0.7\n",
    "\n",
    "#Rectangle 2 co-ordinates\n",
    "rect2_x1 = 0.5\n",
    "rect2_y1 = 0.2\n",
    "rect2_x2 = 1.1\n",
    "rect2_y2 = 2\n",
    "\n",
    "#Test\n",
    "is_inside_rect1 = inside(x, y, rect1_x1, rect1_y1, rect1_x2, rect1_y2)\n",
    "is_inside_rect2 = inside(x, y, rect2_x1, rect2_y1, rect2_x2, rect2_y2)\n",
    "\n",
    "#Check\n",
    "if is_inside_rect1 and is_inside_rect2:\n",
    "    print(f\"Point ({x}, {y}) lies in both rectangles.\")\n",
    "else:\n",
    "    print(f\"Point ({x}, {y}) does not lie in both rectangles.\")\n"
   ]
  },
  {
   "cell_type": "code",
   "execution_count": 8,
   "id": "18eef65d",
   "metadata": {},
   "outputs": [
    {
     "name": "stdout",
     "output_type": "stream",
     "text": [
      "appyhay\n",
      "enterway\n"
     ]
    }
   ],
   "source": [
    "# Question 6\n",
    "VOWELS = ['a', 'e', 'i', 'o', 'u']\n",
    "def pig(word):\n",
    "    lower_cased_word = word.lower()\n",
    "    if (lower_cased_word[0] in VOWELS):\n",
    "        return lower_cased_word + 'way'\n",
    "    else:\n",
    "        return lower_cased_word[1:] + lower_cased_word[0] + 'ay'\n",
    "    \n",
    "a=pig('happy')\n",
    "print(a)\n",
    "b=pig('Enter')\n",
    "print(b)\n",
    "     "
   ]
  },
  {
   "cell_type": "code",
   "execution_count": null,
   "id": "0003c99a",
   "metadata": {},
   "outputs": [],
   "source": []
  },
  {
   "cell_type": "code",
   "execution_count": 39,
   "id": "05f16be5",
   "metadata": {
    "scrolled": true
   },
   "outputs": [
    {
     "name": "stdout",
     "output_type": "stream",
     "text": [
      "There are 15 patients of blood type A.\n",
      "There is one patient of blood type B.\n",
      "There are 13 patients of blood type AB.\n",
      "There are 15 patients of blood type O.\n",
      "There are no patients of blood type OO.\n"
     ]
    }
   ],
   "source": [
    "# Question 7\n",
    "\n",
    "import pandas as pd\n",
    "pd.read_table('bloodtype1.txt')\n",
    "\n",
    "def bldcount(filename: str):\n",
    "    blood_types_dict = {'A': 0, 'B': 0, 'AB': 0, 'O': 0, 'OO': 0}\n",
    "\n",
    "    with open(filename, 'r') as file:\n",
    "\n",
    "        for blood_types_line in file:\n",
    "            blood_types = blood_types_line.strip().split()\n",
    "            for blood_type in blood_types:\n",
    "                if blood_type in blood_types_dict:\n",
    "                    blood_types_dict[blood_type] += 1\n",
    "\n",
    "    for blood_type, count in blood_types_dict.items():\n",
    "            if(count == 0):\n",
    "                print(f\"There are no patients of blood type {blood_type}.\")\n",
    "            elif count == 1:\n",
    "                print(f\"There is one patient of blood type {blood_type}.\")\n",
    "            else:\n",
    "                print(f\"There are {count} patients of blood type {blood_type}.\")\n",
    "                \n",
    "filename = 'bloodtype1.txt'\n",
    "bldcount(filename)\n",
    "                \n"
   ]
  },
  {
   "cell_type": "code",
   "execution_count": 38,
   "id": "31a8021f",
   "metadata": {},
   "outputs": [
    {
     "name": "stdout",
     "output_type": "stream",
     "text": [
      "122.96544\n",
      "1.241401\n"
     ]
    }
   ],
   "source": [
    "# Question 8\n",
    "import pandas as pd\n",
    "pd.read_table(\"currencies.txt\")\n",
    "\n",
    "def curconv(currency, amount):\n",
    "    currency_conversion_rates = {}\n",
    "    \n",
    "    with open('currencies.txt', 'r') as file:\n",
    "        for line in file:\n",
    "            conversion_info = line.split()\n",
    "            currency_conversion_rates[conversion_info[0]] = float(conversion_info[1])\n",
    "\n",
    "    if(currency in currency_conversion_rates):\n",
    "        return currency_conversion_rates[currency] * amount\n",
    "    else:\n",
    "        return \"Currency not supported\"\n",
    "a=curconv('EUR', 100)\n",
    "print(a)\n",
    "b=curconv('JPY', 100)\n",
    "print(b)"
   ]
  },
  {
   "cell_type": "markdown",
   "id": "b46103a3",
   "metadata": {},
   "source": [
    "# Question 9\n",
    "# Finding exceptions\n",
    "a. Trying to add incompatible variables, as in adding 6 + ‘a’ = TypeError: unsupported operant type(s) for +: 'int' and 'str'\n",
    "b. Referring to the 12th item of a list that has only 10 items = IndexError: list index out of range\n",
    "c. Using a value that is out of range for a function’s input, such as calling math.sqrt(-1.0)= ValueError:math domain error\n",
    "d. Using an undeclared variable, such as print(x)when x has not been defined = NameError\n",
    "e. Trying to open a file that does not exist, such as mistyping the file name or looking in the wrong directory.= FileNotFoundError\n"
   ]
  },
  {
   "cell_type": "code",
   "execution_count": 40,
   "id": "3150b7f6",
   "metadata": {},
   "outputs": [
    {
     "name": "stdout",
     "output_type": "stream",
     "text": [
      "[1, 1, 1, 3, 5, 1, 1, 2, 1, 0, 1, 0, 1, 2, 4, 0, 1, 2, 0, 3, 1, 0, 1, 1, 0, 0]\n",
      "[1, 0, 0, 0, 1, 0, 0, 0, 0, 0, 0, 1, 0, 0, 0, 2, 0, 0, 0, 0, 0, 0, 0, 0, 0, 0]\n"
     ]
    }
   ],
   "source": [
    "# Question 10\n",
    "def frequencies(string_val: str):\n",
    "    predefined_letters = 'abcdefghijklmnopqrstuvwxyz'\n",
    "    lower_cased_string_val = string_val.lower()\n",
    "\n",
    "    char_count_dict = {}\n",
    "\n",
    "    for char in predefined_letters:\n",
    "        char_count_dict[char] = 0\n",
    "\n",
    "    for char in lower_cased_string_val:\n",
    "        if(char in char_count_dict):\n",
    "            char_count_dict[char] += 1\n",
    "\n",
    "    return list(char_count_dict.values())\n",
    "\n",
    "a= frequencies('The quick red fox got bored and went home.')\n",
    "print(a)\n",
    "b=frequencies('apple')\n",
    "print(b)"
   ]
  },
  {
   "cell_type": "code",
   "execution_count": null,
   "id": "0555a760",
   "metadata": {},
   "outputs": [],
   "source": []
  }
 ],
 "metadata": {
  "kernelspec": {
   "display_name": "Python 3 (ipykernel)",
   "language": "python",
   "name": "python3"
  },
  "language_info": {
   "codemirror_mode": {
    "name": "ipython",
    "version": 3
   },
   "file_extension": ".py",
   "mimetype": "text/x-python",
   "name": "python",
   "nbconvert_exporter": "python",
   "pygments_lexer": "ipython3",
   "version": "3.11.4"
  }
 },
 "nbformat": 4,
 "nbformat_minor": 5
}
